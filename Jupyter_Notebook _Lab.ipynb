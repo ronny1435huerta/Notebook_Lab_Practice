{
 "cells": [
  {
   "cell_type": "markdown",
   "metadata": {},
   "source": [
    "<center>\n",
    "    <img src=\"https://cf-courses-data.s3.us.cloud-object-storage.appdomain.cloud/IBMDeveloperSkillsNetwork-DS0105EN-SkillsNetwork/labs/Module2/images/SN_web_lightmode.png\" width=\"300\" alt=\"cognitiveclass.ai logo\">\n",
    "</center>\n"
   ]
  },
  {
   "cell_type": "markdown",
   "metadata": {},
   "source": [
    "#### Add your code below following the instructions given in the course\n"
   ]
  },
  {
   "cell_type": "markdown",
   "metadata": {},
   "source": [
    "Notebook Lab"
   ]
  },
  {
   "cell_type": "markdown",
   "metadata": {},
   "source": [
    "This notebook was created by Ronny Huerta with the purpose to practice."
   ]
  },
  {
   "cell_type": "markdown",
   "metadata": {},
   "source": [
    "Data Science Languages\n",
    "\n",
    "1.- R\n",
    "\n",
    "2.- Python\n",
    "\n",
    "3.- SQL"
   ]
  },
  {
   "cell_type": "markdown",
   "metadata": {},
   "source": [
    "Data Science Libraries\n",
    "\n",
    "1.- SciPy\n",
    "\n",
    "2.- TensorFlow\n",
    "\n",
    "3.- dplyr"
   ]
  },
  {
   "cell_type": "markdown",
   "metadata": {},
   "source": [
    "| Tool               | Description                                       |\n",
    "|--------------------|---------------------------------------------------|\n",
    "| Jupyter Notebook   | Interactive notebook for programming              |\n",
    "| RStudio            | Integrated environment for R                      |\n",
    "| Spyder             | Python IDE                                        |\n",
    "| IBM Watson Studio  | Cloud data and AI analysis platform               |\n",
    "| Google Colab       | Cloud-based Python notebook environment           |"
   ]
  },
  {
   "cell_type": "markdown",
   "metadata": {},
   "source": [
    "Here are some examples of arithmetic expressions:\n",
    "\n",
    "- Addition: 3 + 5 = 8\n",
    "\n",
    "- Subtraction: 10 - 4 = 6\n",
    "\n",
    "- Multiplication: 6 * 7 = 42\n",
    "\n",
    "- Division: 15 / 3 = 5"
   ]
  },
  {
   "cell_type": "code",
   "execution_count": 12,
   "metadata": {
    "tags": []
   },
   "outputs": [
    {
     "name": "stdout",
     "output_type": "stream",
     "text": [
      "The product of the multiplication:  35\n",
      "The result of the addition:  12\n"
     ]
    }
   ],
   "source": [
    "# Multiplying and adding numbers\n",
    "num1 = 5\n",
    "num2 = 7\n",
    "\n",
    "# Multiplication\n",
    "multiplication = num1 * num2\n",
    "print(\"The product of the multiplication: \", multiplication)\n",
    "\n",
    "# Addition\n",
    "addition = num1 + num2\n",
    "print(\"The result of the addition: \", addition)"
   ]
  },
  {
   "cell_type": "code",
   "execution_count": 13,
   "metadata": {
    "tags": []
   },
   "outputs": [
    {
     "name": "stdout",
     "output_type": "stream",
     "text": [
      "150 minutes is equal to 2.5 hours\n"
     ]
    }
   ],
   "source": [
    "# Convert minutes into hours\n",
    "minutes = 150\n",
    "\n",
    "# Convert minutes to hours\n",
    "hours = minutes / 60\n",
    "\n",
    "print(minutes, \"minutes is equal to\", hours, \"hours\")"
   ]
  },
  {
   "cell_type": "code",
   "execution_count": 14,
   "metadata": {
    "tags": []
   },
   "outputs": [
    {
     "name": "stdout",
     "output_type": "stream",
     "text": [
      "Learn basic concepts of data science\n",
      "Familiarize with data science tools\n",
      "Practice arithmetic expressions and basic operations in Python\n"
     ]
    }
   ],
   "source": [
    "# List Objectives\n",
    "objectives = [\"Learn basic concepts of data science\",\n",
    "              \"Familiarize with data science tools\",\n",
    "              \"Practice arithmetic expressions and basic operations in Python\"]\n",
    "\n",
    "for objective in objectives:\n",
    "    print(objective)"
   ]
  },
  {
   "cell_type": "markdown",
   "metadata": {},
   "source": [
    "Author: Ronny Arturo Huerta Ramírez"
   ]
  },
  {
   "cell_type": "code",
   "execution_count": null,
   "metadata": {},
   "outputs": [],
   "source": []
  }
 ],
 "metadata": {
  "kernelspec": {
   "display_name": "Python",
   "language": "python",
   "name": "conda-env-python-py"
  },
  "language_info": {
   "codemirror_mode": {
    "name": "ipython",
    "version": 3
   },
   "file_extension": ".py",
   "mimetype": "text/x-python",
   "name": "python",
   "nbconvert_exporter": "python",
   "pygments_lexer": "ipython3",
   "version": "3.7.12"
  }
 },
 "nbformat": 4,
 "nbformat_minor": 4
}
